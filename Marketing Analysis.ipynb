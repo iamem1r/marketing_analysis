{
 "cells": [
  {
   "cell_type": "markdown",
   "id": "ca76ae19",
   "metadata": {},
   "source": [
    "### Imports"
   ]
  },
  {
   "cell_type": "code",
   "execution_count": 50,
   "id": "10473f9b",
   "metadata": {},
   "outputs": [],
   "source": [
    "import pandas as pd\n",
    "import numpy as np\n",
    "import matplotlib.pyplot as plt"
   ]
  },
  {
   "cell_type": "markdown",
   "id": "e41df68a",
   "metadata": {},
   "source": [
    "### Load and Read dataset"
   ]
  },
  {
   "cell_type": "code",
   "execution_count": 13,
   "id": "f8e5fa5f",
   "metadata": {},
   "outputs": [],
   "source": [
    "marketing = pd.read_csv(\n",
    "    filepath_or_buffer='marketing.csv', \n",
    "    parse_dates=['date_served', 'date_subscribed', 'date_canceled'])"
   ]
  },
  {
   "cell_type": "code",
   "execution_count": 31,
   "id": "e6e0a572",
   "metadata": {},
   "outputs": [
    {
     "data": {
      "text/html": [
       "<div>\n",
       "<style scoped>\n",
       "    .dataframe tbody tr th:only-of-type {\n",
       "        vertical-align: middle;\n",
       "    }\n",
       "\n",
       "    .dataframe tbody tr th {\n",
       "        vertical-align: top;\n",
       "    }\n",
       "\n",
       "    .dataframe thead th {\n",
       "        text-align: right;\n",
       "    }\n",
       "</style>\n",
       "<table border=\"1\" class=\"dataframe\">\n",
       "  <thead>\n",
       "    <tr style=\"text-align: right;\">\n",
       "      <th></th>\n",
       "      <th>user_id</th>\n",
       "      <th>date_served</th>\n",
       "      <th>marketing_channel</th>\n",
       "      <th>variant</th>\n",
       "      <th>converted</th>\n",
       "      <th>language_displayed</th>\n",
       "      <th>language_preferred</th>\n",
       "      <th>age_group</th>\n",
       "      <th>date_subscribed</th>\n",
       "      <th>date_canceled</th>\n",
       "      <th>subscribing_channel</th>\n",
       "      <th>is_retained</th>\n",
       "    </tr>\n",
       "  </thead>\n",
       "  <tbody>\n",
       "    <tr>\n",
       "      <th>0</th>\n",
       "      <td>a100000029</td>\n",
       "      <td>2018-01-01</td>\n",
       "      <td>House Ads</td>\n",
       "      <td>personalization</td>\n",
       "      <td>True</td>\n",
       "      <td>English</td>\n",
       "      <td>English</td>\n",
       "      <td>0-18 years</td>\n",
       "      <td>2018-01-01</td>\n",
       "      <td>NaT</td>\n",
       "      <td>House Ads</td>\n",
       "      <td>True</td>\n",
       "    </tr>\n",
       "    <tr>\n",
       "      <th>1</th>\n",
       "      <td>a100000030</td>\n",
       "      <td>2018-01-01</td>\n",
       "      <td>House Ads</td>\n",
       "      <td>personalization</td>\n",
       "      <td>True</td>\n",
       "      <td>English</td>\n",
       "      <td>English</td>\n",
       "      <td>19-24 years</td>\n",
       "      <td>2018-01-01</td>\n",
       "      <td>NaT</td>\n",
       "      <td>House Ads</td>\n",
       "      <td>True</td>\n",
       "    </tr>\n",
       "    <tr>\n",
       "      <th>2</th>\n",
       "      <td>a100000031</td>\n",
       "      <td>2018-01-01</td>\n",
       "      <td>House Ads</td>\n",
       "      <td>personalization</td>\n",
       "      <td>True</td>\n",
       "      <td>English</td>\n",
       "      <td>English</td>\n",
       "      <td>24-30 years</td>\n",
       "      <td>2018-01-01</td>\n",
       "      <td>NaT</td>\n",
       "      <td>House Ads</td>\n",
       "      <td>True</td>\n",
       "    </tr>\n",
       "    <tr>\n",
       "      <th>3</th>\n",
       "      <td>a100000032</td>\n",
       "      <td>2018-01-01</td>\n",
       "      <td>House Ads</td>\n",
       "      <td>personalization</td>\n",
       "      <td>True</td>\n",
       "      <td>English</td>\n",
       "      <td>English</td>\n",
       "      <td>30-36 years</td>\n",
       "      <td>2018-01-01</td>\n",
       "      <td>NaT</td>\n",
       "      <td>House Ads</td>\n",
       "      <td>True</td>\n",
       "    </tr>\n",
       "    <tr>\n",
       "      <th>4</th>\n",
       "      <td>a100000033</td>\n",
       "      <td>2018-01-01</td>\n",
       "      <td>House Ads</td>\n",
       "      <td>personalization</td>\n",
       "      <td>True</td>\n",
       "      <td>English</td>\n",
       "      <td>English</td>\n",
       "      <td>36-45 years</td>\n",
       "      <td>2018-01-01</td>\n",
       "      <td>NaT</td>\n",
       "      <td>House Ads</td>\n",
       "      <td>True</td>\n",
       "    </tr>\n",
       "  </tbody>\n",
       "</table>\n",
       "</div>"
      ],
      "text/plain": [
       "      user_id date_served marketing_channel          variant  converted  \\\n",
       "0  a100000029  2018-01-01         House Ads  personalization       True   \n",
       "1  a100000030  2018-01-01         House Ads  personalization       True   \n",
       "2  a100000031  2018-01-01         House Ads  personalization       True   \n",
       "3  a100000032  2018-01-01         House Ads  personalization       True   \n",
       "4  a100000033  2018-01-01         House Ads  personalization       True   \n",
       "\n",
       "  language_displayed language_preferred    age_group date_subscribed  \\\n",
       "0            English            English   0-18 years      2018-01-01   \n",
       "1            English            English  19-24 years      2018-01-01   \n",
       "2            English            English  24-30 years      2018-01-01   \n",
       "3            English            English  30-36 years      2018-01-01   \n",
       "4            English            English  36-45 years      2018-01-01   \n",
       "\n",
       "  date_canceled subscribing_channel  is_retained  \n",
       "0           NaT           House Ads         True  \n",
       "1           NaT           House Ads         True  \n",
       "2           NaT           House Ads         True  \n",
       "3           NaT           House Ads         True  \n",
       "4           NaT           House Ads         True  "
      ]
     },
     "execution_count": 31,
     "metadata": {},
     "output_type": "execute_result"
    }
   ],
   "source": [
    "# marketing.head()"
   ]
  },
  {
   "cell_type": "markdown",
   "id": "04a3b98d",
   "metadata": {},
   "source": [
    "## What does a data analyst on a marketing team do?\n",
    ". Analyzing marketing campaign performance <br>\n",
    ". Attributing credit to marketing channel <br>\n",
    ". A/B testing <br>"
   ]
  },
  {
   "cell_type": "markdown",
   "id": "83903199",
   "metadata": {},
   "source": [
    "#### do some EDA"
   ]
  },
  {
   "cell_type": "code",
   "execution_count": 55,
   "id": "ba02e4f6",
   "metadata": {},
   "outputs": [],
   "source": [
    "# marketing.describe()"
   ]
  },
  {
   "cell_type": "code",
   "execution_count": 24,
   "id": "1f134dbe",
   "metadata": {},
   "outputs": [
    {
     "name": "stdout",
     "output_type": "stream",
     "text": [
      "<class 'pandas.core.frame.DataFrame'>\n",
      "RangeIndex: 10037 entries, 0 to 10036\n",
      "Data columns (total 12 columns):\n",
      " #   Column               Non-Null Count  Dtype         \n",
      "---  ------               --------------  -----         \n",
      " 0   user_id              10037 non-null  object        \n",
      " 1   date_served          10021 non-null  datetime64[ns]\n",
      " 2   marketing_channel    10022 non-null  object        \n",
      " 3   variant              10037 non-null  object        \n",
      " 4   converted            10037 non-null  bool          \n",
      " 5   language_displayed   10037 non-null  object        \n",
      " 6   language_preferred   10037 non-null  object        \n",
      " 7   age_group            10037 non-null  object        \n",
      " 8   date_subscribed      1856 non-null   datetime64[ns]\n",
      " 9   date_canceled        577 non-null    datetime64[ns]\n",
      " 10  subscribing_channel  1856 non-null   object        \n",
      " 11  is_retained          10037 non-null  bool          \n",
      "dtypes: bool(2), datetime64[ns](3), object(7)\n",
      "memory usage: 803.9+ KB\n"
     ]
    }
   ],
   "source": [
    "marketing.info()"
   ]
  },
  {
   "cell_type": "markdown",
   "id": "9cb8002f",
   "metadata": {},
   "source": [
    "- change dtypes of columns"
   ]
  },
  {
   "cell_type": "code",
   "execution_count": 23,
   "id": "7b281d03",
   "metadata": {},
   "outputs": [],
   "source": [
    "marketing['converted'] = marketing['converted'].astype('bool')\n",
    "marketing['is_retained'] = marketing['is_retained'].astype('bool')"
   ]
  },
  {
   "cell_type": "code",
   "execution_count": 37,
   "id": "d40a82f2",
   "metadata": {
    "scrolled": true
   },
   "outputs": [],
   "source": [
    "# print(marketing['marketing_channel'].value_counts())\n",
    "\n",
    "channel_code_dict = {\n",
    "    \"House Ads\": 0,\n",
    "    \"Instagram\": 1,\n",
    "    \"Facebook\": 2,\n",
    "    \"Push\": 3,\n",
    "    \"Email\": 4,\n",
    "}\n",
    "\n",
    "marketing['channel_code'] = marketing['subscribing_channel'].map(channel_code_dict)"
   ]
  },
  {
   "cell_type": "code",
   "execution_count": 38,
   "id": "f94839cc",
   "metadata": {},
   "outputs": [],
   "source": [
    "marketing['is_correct_lang'] = np.where(\n",
    "    marketing['language_displayed'] == marketing['language_preferred'],\n",
    "    'Yes',\n",
    "    'No'\n",
    ")"
   ]
  },
  {
   "cell_type": "code",
   "execution_count": 45,
   "id": "a3ea81c4",
   "metadata": {},
   "outputs": [],
   "source": [
    "marketing['DoW'] = marketing['date_subscribed'].dt.dayofweek\n",
    "marketing['Year'] = marketing['date_subscribed'].dt.year\n",
    "marketing['Day'] = marketing['date_subscribed'].dt.day\n",
    "marketing['month'] = marketing['date_subscribed'].dt.month"
   ]
  },
  {
   "cell_type": "markdown",
   "id": "9a5b33c0",
   "metadata": {},
   "source": [
    "### How many users see our marketing assets?"
   ]
  },
  {
   "cell_type": "code",
   "execution_count": 47,
   "id": "4fec6ef0",
   "metadata": {},
   "outputs": [],
   "source": [
    "daily_user = marketing.groupby(['date_served'])['user_id'].nunique()"
   ]
  },
  {
   "cell_type": "code",
   "execution_count": 52,
   "id": "6782f09c",
   "metadata": {},
   "outputs": [
    {
     "data": {
      "text/plain": [
       "date_served\n",
       "2018-01-01    362\n",
       "2018-01-02    374\n",
       "2018-01-03    348\n",
       "2018-01-04    323\n",
       "2018-01-05    319\n",
       "2018-01-06    308\n",
       "2018-01-07    275\n",
       "2018-01-08    312\n",
       "2018-01-09    312\n",
       "2018-01-10    337\n",
       "2018-01-11    310\n",
       "2018-01-12    301\n",
       "2018-01-13    306\n",
       "2018-01-14    305\n",
       "2018-01-15    767\n",
       "2018-01-16    388\n",
       "2018-01-17    369\n",
       "2018-01-18    318\n",
       "2018-01-19    305\n",
       "2018-01-20    311\n",
       "2018-01-21    229\n",
       "2018-01-22    178\n",
       "2018-01-23    172\n",
       "2018-01-24    190\n",
       "2018-01-25    184\n",
       "2018-01-26    222\n",
       "2018-01-27    320\n",
       "2018-01-28    320\n",
       "2018-01-29    319\n",
       "2018-01-30    317\n",
       "2018-01-31    340\n",
       "Name: user_id, dtype: int64"
      ]
     },
     "execution_count": 52,
     "metadata": {},
     "output_type": "execute_result"
    }
   ],
   "source": [
    "daily_user"
   ]
  },
  {
   "cell_type": "code",
   "execution_count": 64,
   "id": "dde80a7b",
   "metadata": {},
   "outputs": [
    {
     "data": {
      "image/png": "[encoded data removed]",
      "text/plain": [
       "<Figure size 432x288 with 1 Axes>"
      ]
     },
     "metadata": {
      "needs_background": "light"
     },
     "output_type": "display_data"
    }
   ],
   "source": [
    "daily_user.plot()\n",
    "\n",
    "plt.title(\"Daily users who see marketing assets\")\n",
    "plt.xlabel(\"Date\")\n",
    "plt.ylabel(\"Number of users\")\n",
    "\n",
    "plt.show()"
   ]
  },
  {
   "cell_type": "markdown",
   "id": "43a9fff1",
   "metadata": {},
   "source": [
    "- Much like in daily users who view marketing assets, there's a large peak around the time when an email blast goes out."
   ]
  },
  {
   "cell_type": "code",
   "execution_count": 65,
   "id": "c5fd98a8",
   "metadata": {},
   "outputs": [],
   "source": [
    "daily_active_users = marketing.groupby(['Day'])['user_id'].nunique()"
   ]
  },
  {
   "cell_type": "code",
   "execution_count": 66,
   "id": "b86d274a",
   "metadata": {},
   "outputs": [
    {
     "data": {
      "image/png": "[encoded data removed]",
      "text/plain": [
       "<Figure size 432x288 with 1 Axes>"
      ]
     },
     "metadata": {
      "needs_background": "light"
     },
     "output_type": "display_data"
    }
   ],
   "source": [
    "daily_active_users.plot()\n",
    "\n",
    "plt.title(\"Daily Active Users\")\n",
    "plt.xlabel(\"Date\")\n",
    "plt.ylabel(\"Number of users\")\n",
    "\n",
    "plt.show()"
   ]
  },
  {
   "cell_type": "markdown",
   "id": "e1d77370",
   "metadata": {},
   "source": [
    "# Analyzing campaign metrics"
   ]
  },
  {
   "cell_type": "markdown",
   "id": "4eed54f3",
   "metadata": {},
   "source": [
    "### Was the campaign successful?"
   ]
  },
  {
   "cell_type": "markdown",
   "id": "e5a74893",
   "metadata": {},
   "source": [
    "- Conversion Rate <br>\n",
    "- Retention Rate"
   ]
  },
  {
   "cell_type": "code",
   "execution_count": 98,
   "id": "4e4ebfd7",
   "metadata": {
    "scrolled": true
   },
   "outputs": [
    {
     "data": {
      "text/html": [
       "<div>\n",
       "<style scoped>\n",
       "    .dataframe tbody tr th:only-of-type {\n",
       "        vertical-align: middle;\n",
       "    }\n",
       "\n",
       "    .dataframe tbody tr th {\n",
       "        vertical-align: top;\n",
       "    }\n",
       "\n",
       "    .dataframe thead th {\n",
       "        text-align: right;\n",
       "    }\n",
       "</style>\n",
       "<table border=\"1\" class=\"dataframe\">\n",
       "  <thead>\n",
       "    <tr style=\"text-align: right;\">\n",
       "      <th></th>\n",
       "      <th>user_id</th>\n",
       "      <th>date_served</th>\n",
       "      <th>marketing_channel</th>\n",
       "      <th>variant</th>\n",
       "      <th>converted</th>\n",
       "      <th>language_displayed</th>\n",
       "      <th>language_preferred</th>\n",
       "      <th>age_group</th>\n",
       "      <th>date_subscribed</th>\n",
       "      <th>date_canceled</th>\n",
       "      <th>subscribing_channel</th>\n",
       "      <th>is_retained</th>\n",
       "      <th>channel_code</th>\n",
       "      <th>is_correct_lang</th>\n",
       "      <th>DoW</th>\n",
       "      <th>Year</th>\n",
       "      <th>Day</th>\n",
       "      <th>month</th>\n",
       "    </tr>\n",
       "  </thead>\n",
       "  <tbody>\n",
       "    <tr>\n",
       "      <th>0</th>\n",
       "      <td>a100000029</td>\n",
       "      <td>2018-01-01</td>\n",
       "      <td>House Ads</td>\n",
       "      <td>personalization</td>\n",
       "      <td>True</td>\n",
       "      <td>English</td>\n",
       "      <td>English</td>\n",
       "      <td>0-18 years</td>\n",
       "      <td>2018-01-01</td>\n",
       "      <td>NaT</td>\n",
       "      <td>House Ads</td>\n",
       "      <td>True</td>\n",
       "      <td>0.0</td>\n",
       "      <td>Yes</td>\n",
       "      <td>0.0</td>\n",
       "      <td>2018.0</td>\n",
       "      <td>1.0</td>\n",
       "      <td>1.0</td>\n",
       "    </tr>\n",
       "    <tr>\n",
       "      <th>1</th>\n",
       "      <td>a100000030</td>\n",
       "      <td>2018-01-01</td>\n",
       "      <td>House Ads</td>\n",
       "      <td>personalization</td>\n",
       "      <td>True</td>\n",
       "      <td>English</td>\n",
       "      <td>English</td>\n",
       "      <td>19-24 years</td>\n",
       "      <td>2018-01-01</td>\n",
       "      <td>NaT</td>\n",
       "      <td>House Ads</td>\n",
       "      <td>True</td>\n",
       "      <td>0.0</td>\n",
       "      <td>Yes</td>\n",
       "      <td>0.0</td>\n",
       "      <td>2018.0</td>\n",
       "      <td>1.0</td>\n",
       "      <td>1.0</td>\n",
       "    </tr>\n",
       "    <tr>\n",
       "      <th>2</th>\n",
       "      <td>a100000031</td>\n",
       "      <td>2018-01-01</td>\n",
       "      <td>House Ads</td>\n",
       "      <td>personalization</td>\n",
       "      <td>True</td>\n",
       "      <td>English</td>\n",
       "      <td>English</td>\n",
       "      <td>24-30 years</td>\n",
       "      <td>2018-01-01</td>\n",
       "      <td>NaT</td>\n",
       "      <td>House Ads</td>\n",
       "      <td>True</td>\n",
       "      <td>0.0</td>\n",
       "      <td>Yes</td>\n",
       "      <td>0.0</td>\n",
       "      <td>2018.0</td>\n",
       "      <td>1.0</td>\n",
       "      <td>1.0</td>\n",
       "    </tr>\n",
       "    <tr>\n",
       "      <th>3</th>\n",
       "      <td>a100000032</td>\n",
       "      <td>2018-01-01</td>\n",
       "      <td>House Ads</td>\n",
       "      <td>personalization</td>\n",
       "      <td>True</td>\n",
       "      <td>English</td>\n",
       "      <td>English</td>\n",
       "      <td>30-36 years</td>\n",
       "      <td>2018-01-01</td>\n",
       "      <td>NaT</td>\n",
       "      <td>House Ads</td>\n",
       "      <td>True</td>\n",
       "      <td>0.0</td>\n",
       "      <td>Yes</td>\n",
       "      <td>0.0</td>\n",
       "      <td>2018.0</td>\n",
       "      <td>1.0</td>\n",
       "      <td>1.0</td>\n",
       "    </tr>\n",
       "    <tr>\n",
       "      <th>4</th>\n",
       "      <td>a100000033</td>\n",
       "      <td>2018-01-01</td>\n",
       "      <td>House Ads</td>\n",
       "      <td>personalization</td>\n",
       "      <td>True</td>\n",
       "      <td>English</td>\n",
       "      <td>English</td>\n",
       "      <td>36-45 years</td>\n",
       "      <td>2018-01-01</td>\n",
       "      <td>NaT</td>\n",
       "      <td>House Ads</td>\n",
       "      <td>True</td>\n",
       "      <td>0.0</td>\n",
       "      <td>Yes</td>\n",
       "      <td>0.0</td>\n",
       "      <td>2018.0</td>\n",
       "      <td>1.0</td>\n",
       "      <td>1.0</td>\n",
       "    </tr>\n",
       "  </tbody>\n",
       "</table>\n",
       "</div>"
      ],
      "text/plain": [
       "      user_id date_served marketing_channel          variant  converted  \\\n",
       "0  a100000029  2018-01-01         House Ads  personalization       True   \n",
       "1  a100000030  2018-01-01         House Ads  personalization       True   \n",
       "2  a100000031  2018-01-01         House Ads  personalization       True   \n",
       "3  a100000032  2018-01-01         House Ads  personalization       True   \n",
       "4  a100000033  2018-01-01         House Ads  personalization       True   \n",
       "\n",
       "  language_displayed language_preferred    age_group date_subscribed  \\\n",
       "0            English            English   0-18 years      2018-01-01   \n",
       "1            English            English  19-24 years      2018-01-01   \n",
       "2            English            English  24-30 years      2018-01-01   \n",
       "3            English            English  30-36 years      2018-01-01   \n",
       "4            English            English  36-45 years      2018-01-01   \n",
       "\n",
       "  date_canceled subscribing_channel  is_retained  channel_code  \\\n",
       "0           NaT           House Ads         True           0.0   \n",
       "1           NaT           House Ads         True           0.0   \n",
       "2           NaT           House Ads         True           0.0   \n",
       "3           NaT           House Ads         True           0.0   \n",
       "4           NaT           House Ads         True           0.0   \n",
       "\n",
       "  is_correct_lang  DoW    Year  Day  month  \n",
       "0             Yes  0.0  2018.0  1.0    1.0  \n",
       "1             Yes  0.0  2018.0  1.0    1.0  \n",
       "2             Yes  0.0  2018.0  1.0    1.0  \n",
       "3             Yes  0.0  2018.0  1.0    1.0  \n",
       "4             Yes  0.0  2018.0  1.0    1.0  "
      ]
     },
     "execution_count": 98,
     "metadata": {},
     "output_type": "execute_result"
    }
   ],
   "source": [
    "marketing.head()"
   ]
  },
  {
   "cell_type": "code",
   "execution_count": 103,
   "id": "f767b7cb",
   "metadata": {},
   "outputs": [
    {
     "name": "stdout",
     "output_type": "stream",
     "text": [
      "Conversion Rate is -----> 14.09%\n"
     ]
    }
   ],
   "source": [
    "# conversion_rate\n",
    "\n",
    "converted_users = marketing[marketing['converted'] == True]['user_id'].nunique()\n",
    "total_users = marketing['user_id'].nunique()\n",
    "conv_rate = converted_users / total_users\n",
    "\n",
    "conversion_rate = round(conv_rate*100, 2)\n",
    "print(f\"Conversion Rate is -----> {conversion_rate}%\")"
   ]
  },
  {
   "cell_type": "markdown",
   "id": "b5c15323",
   "metadata": {},
   "source": [
    "is it a good conversion rate? <br>\n",
    "answer: depends on. <br>\n",
    "This will depend heavily on your business. There is no particular number that all marketing teams are trying to reach. Instead, when you're working on a marketing team, it helps to look at historical data to determine whether a conversion rate is what you would expect."
   ]
  },
  {
   "cell_type": "code",
   "execution_count": 107,
   "id": "374a6177",
   "metadata": {},
   "outputs": [
    {
     "name": "stdout",
     "output_type": "stream",
     "text": [
      "Retention Rate is -----> 67.57%\n"
     ]
    }
   ],
   "source": [
    "# retention rate = retained_users / total_subscribed\n",
    "\n",
    "total_subscribed = marketing[marketing['converted'] == True]['user_id'].nunique()\n",
    "# retained = marketing[marketing['is_retained'] == True]['user_id'].nunique()\n",
    "converted_users = marketing[marketing['converted'] == True]\n",
    "retained_users = converted_users[converted_users['is_retained'] == True]['user_id'].nunique()\n",
    "reten_rate = retained_users / total_subscribed\n",
    "\n",
    "retention_rate = round(reten_rate*100, 2)\n",
    "print(f\"Retention Rate is -----> {retention_rate}%\")"
   ]
  },
  {
   "cell_type": "markdown",
   "id": "e8255fea",
   "metadata": {},
   "source": [
    "Much like with conversion rate, there is no retention rate that will apply across businesses and industries. <br>\n",
    "Look at historical retention rates or retention rates of companies in a similar industry to interpret your results"
   ]
  },
  {
   "cell_type": "markdown",
   "id": "7c2b5e5d",
   "metadata": {},
   "source": [
    "# Customer Segmentation"
   ]
  },
  {
   "cell_type": "markdown",
   "id": "ac21e4f2",
   "metadata": {},
   "source": [
    "- marketing channels"
   ]
  },
  {
   "cell_type": "code",
   "execution_count": 142,
   "id": "073f6434",
   "metadata": {},
   "outputs": [
    {
     "name": "stdout",
     "output_type": "stream",
     "text": [
      "Conversion rate for each marketing channel is: subscribing_channel\n",
      "Email         83.85\n",
      "Facebook     100.00\n",
      "House Ads    100.00\n",
      "Instagram    100.00\n",
      "Push         100.00\n",
      "Name: user_id, dtype: float64\n"
     ]
    },
    {
     "data": {
      "image/png": "[encoded data removed]",
      "text/plain": [
       "<Figure size 432x288 with 1 Axes>"
      ]
     },
     "metadata": {
      "needs_background": "light"
     },
     "output_type": "display_data"
    }
   ],
   "source": [
    "# conversion rate \n",
    "\n",
    "converted_channels = marketing[marketing['converted'] == True].groupby(['subscribing_channel'])['user_id'].nunique()\n",
    "total_users_channels = marketing.groupby(['subscribing_channel'])['user_id'].nunique()\n",
    "\n",
    "conv_rate_channels = round((converted_channels/total_users_channels)*100,2)\n",
    "print(f\"Conversion rate for each marketing channel is: {conv_rate_channels}\")\n",
    "\n",
    "\n",
    "\n",
    "# visualize\n",
    "conv_rate_channels.plot(kind='bar')\n",
    "\n",
    "plt.title(\"Conversion rate per marketing channels\")\n",
    "plt.xlabel(\"Marketing Channel\")\n",
    "plt.ylabel(\"Conversion Rate\")\n",
    "plt.xticks(rotation=45)\n",
    "\n",
    "plt.show()"
   ]
  },
  {
   "cell_type": "code",
   "execution_count": 144,
   "id": "238050dc",
   "metadata": {},
   "outputs": [
    {
     "name": "stdout",
     "output_type": "stream",
     "text": [
      "Retention rate for each marketing channel is: subscribing_channel\n",
      "Email        73.29\n",
      "Facebook     68.78\n",
      "House Ads    58.05\n",
      "Instagram    68.10\n",
      "Push         70.13\n",
      "Name: user_id, dtype: float64\n"
     ]
    },
    {
     "data": {
      "image/png": "[encoded data removed]",
      "text/plain": [
       "<Figure size 432x288 with 1 Axes>"
      ]
     },
     "metadata": {
      "needs_background": "light"
     },
     "output_type": "display_data"
    }
   ],
   "source": [
    "# conversion rate \n",
    "\n",
    "converted = marketing[marketing['converted'] == True]\n",
    "\n",
    "retained_channels = converted[converted['is_retained'] == True].groupby(['subscribing_channel'])['user_id'].nunique()\n",
    "total_subscribers = marketing[marketing['converted'] == True].groupby(['subscribing_channel'])['user_id'].nunique()\n",
    "\n",
    "reten_rate_channels = round((retained_channels/total_subscribers)*100, 2)\n",
    "print(f\"Retention rate for each marketing channel is: {reten_rate_channels}\")\n",
    "\n",
    "\n",
    "# visualize\n",
    "reten_rate_channels.plot(kind='bar')\n",
    "\n",
    "plt.title(\"Retention rate per marketing channels\")\n",
    "plt.xlabel(\"Marketing Channel\")\n",
    "plt.ylabel(\"Conversion Rate\")\n",
    "plt.xticks(rotation=45)\n",
    "\n",
    "plt.show()"
   ]
  },
  {
   "cell_type": "markdown",
   "id": "920dad75",
   "metadata": {},
   "source": [
    "- language"
   ]
  },
  {
   "cell_type": "code",
   "execution_count": 145,
   "id": "e1cbd5a1",
   "metadata": {},
   "outputs": [
    {
     "name": "stdout",
     "output_type": "stream",
     "text": [
      "conversion rate for language displayed: language_displayed\n",
      "Arabic     50.00\n",
      "English    13.13\n",
      "German     71.62\n",
      "Spanish    20.00\n",
      "Name: user_id, dtype: float64\n"
     ]
    },
    {
     "data": {
      "image/png": "[encoded data removed]",
      "text/plain": [
       "<Figure size 432x288 with 1 Axes>"
      ]
     },
     "metadata": {
      "needs_background": "light"
     },
     "output_type": "display_data"
    }
   ],
   "source": [
    "# conversion rate \n",
    "\n",
    "\n",
    "convert_languages = marketing[marketing['converted'] == True].groupby(['language_displayed'])['user_id'].nunique()\n",
    "total_user_language = marketing.groupby('language_displayed')['user_id'].nunique()\n",
    "\n",
    "conv_rate_language = round((convert_languages/total_user_language)*100, 2)\n",
    "print(f\"conversion rate for language displayed: {conv_rate_language}\")\n",
    "\n",
    "# visualize\n",
    "conv_rate_language.plot(kind='bar')\n",
    "\n",
    "plt.title(\"Conversion rate per languages\")\n",
    "plt.xlabel(\"Language\")\n",
    "plt.ylabel(\"Conversion Rate\")\n",
    "plt.xticks(rotation=45)\n",
    "\n",
    "plt.show()"
   ]
  },
  {
   "cell_type": "markdown",
   "id": "e8de01dc",
   "metadata": {},
   "source": [
    "- conversion rate per day"
   ]
  },
  {
   "cell_type": "code",
   "execution_count": 149,
   "id": "d4b1418a",
   "metadata": {},
   "outputs": [
    {
     "name": "stdout",
     "output_type": "stream",
     "text": [
      "date_served\n",
      "2018-01-01     9.94\n",
      "2018-01-02     9.89\n",
      "2018-01-03    10.34\n",
      "2018-01-04    10.84\n",
      "2018-01-05    12.54\n",
      "2018-01-06    11.36\n",
      "2018-01-07    14.18\n",
      "2018-01-08    11.54\n",
      "2018-01-09    12.50\n",
      "2018-01-10    11.87\n",
      "2018-01-11     8.06\n",
      "2018-01-12     7.64\n",
      "2018-01-13     8.50\n",
      "2018-01-14     8.52\n",
      "2018-01-15    11.34\n",
      "2018-01-16    25.52\n",
      "2018-01-17    21.95\n",
      "2018-01-18     9.12\n",
      "2018-01-19     5.90\n",
      "2018-01-20     6.75\n",
      "2018-01-21     8.73\n",
      "2018-01-22    12.36\n",
      "2018-01-23    12.21\n",
      "2018-01-24    11.58\n",
      "2018-01-25    12.50\n",
      "2018-01-26     9.01\n",
      "2018-01-27     6.56\n",
      "2018-01-28     6.25\n",
      "2018-01-29     5.96\n",
      "2018-01-30     6.62\n",
      "2018-01-31     5.29\n",
      "Name: user_id, dtype: float64\n"
     ]
    },
    {
     "data": {
      "image/png": "[encoded data removed]",
      "text/plain": [
       "<Figure size 432x288 with 1 Axes>"
      ]
     },
     "metadata": {
      "needs_background": "light"
     },
     "output_type": "display_data"
    }
   ],
   "source": [
    "total_per_day = marketing.groupby(['date_served'])['user_id'].nunique()\n",
    "converted_per_day = marketing[marketing['converted'] == True].groupby(['date_served'])['user_id'].nunique()\n",
    "\n",
    "conv_per_day = round((converted_per_day/total_per_day)*100, 2)\n",
    "print(conv_per_day)\n",
    "\n",
    "\n",
    "# visualize\n",
    "\n",
    "conv_per_day_df.plot(kind='bar')\n",
    "\n",
    "plt.title(\"Conversion rate per day\")\n",
    "plt.xlabel(\"Date\")\n",
    "plt.ylabel(\"Conversion Rate\")\n",
    "plt.xticks(rotation=45)\n",
    "\n",
    "plt.show()"
   ]
  },
  {
   "cell_type": "code",
   "execution_count": null,
   "id": "197dc4c0",
   "metadata": {},
   "outputs": [],
   "source": []
  }
 ],
 "metadata": {
  "kernelspec": {
   "display_name": "Python 3 (ipykernel)",
   "language": "python",
   "name": "python3"
  },
  "language_info": {
   "codemirror_mode": {
    "name": "ipython",
    "version": 3
   },
   "file_extension": ".py",
   "mimetype": "text/x-python",
   "name": "python",
   "nbconvert_exporter": "python",
   "pygments_lexer": "ipython3",
   "version": "3.8.12"
  }
 },
 "nbformat": 4,
 "nbformat_minor": 5
}
