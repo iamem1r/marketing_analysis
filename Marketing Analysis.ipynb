{
 "cells": [
  {
   "cell_type": "markdown",
   "id": "ca76ae19",
   "metadata": {},
   "source": [
    "### Imports"
   ]
  },
  {
   "cell_type": "code",
   "execution_count": 50,
   "id": "10473f9b",
   "metadata": {},
   "outputs": [],
   "source": [
    "import pandas as pd\n",
    "import numpy as np\n",
    "import matplotlib.pyplot as plt"
   ]
  },
  {
   "cell_type": "markdown",
   "id": "e41df68a",
   "metadata": {},
   "source": [
    "### Load and Read dataset"
   ]
  },
  {
   "cell_type": "code",
   "execution_count": 13,
   "id": "f8e5fa5f",
   "metadata": {},
   "outputs": [],
   "source": [
    "marketing = pd.read_csv(\n",
    "    filepath_or_buffer='marketing.csv', \n",
    "    parse_dates=['date_served', 'date_subscribed', 'date_canceled'])"
   ]
  },
  {
   "cell_type": "code",
   "execution_count": 31,
   "id": "e6e0a572",
   "metadata": {},
   "outputs": [
    {
     "data": {
      "text/html": [
       "<div>\n",
       "<style scoped>\n",
       "    .dataframe tbody tr th:only-of-type {\n",
       "        vertical-align: middle;\n",
       "    }\n",
       "\n",
       "    .dataframe tbody tr th {\n",
       "        vertical-align: top;\n",
       "    }\n",
       "\n",
       "    .dataframe thead th {\n",
       "        text-align: right;\n",
       "    }\n",
       "</style>\n",
       "<table border=\"1\" class=\"dataframe\">\n",
       "  <thead>\n",
       "    <tr style=\"text-align: right;\">\n",
       "      <th></th>\n",
       "      <th>user_id</th>\n",
       "      <th>date_served</th>\n",
       "      <th>marketing_channel</th>\n",
       "      <th>variant</th>\n",
       "      <th>converted</th>\n",
       "      <th>language_displayed</th>\n",
       "      <th>language_preferred</th>\n",
       "      <th>age_group</th>\n",
       "      <th>date_subscribed</th>\n",
       "      <th>date_canceled</th>\n",
       "      <th>subscribing_channel</th>\n",
       "      <th>is_retained</th>\n",
       "    </tr>\n",
       "  </thead>\n",
       "  <tbody>\n",
       "    <tr>\n",
       "      <th>0</th>\n",
       "      <td>a100000029</td>\n",
       "      <td>2018-01-01</td>\n",
       "      <td>House Ads</td>\n",
       "      <td>personalization</td>\n",
       "      <td>True</td>\n",
       "      <td>English</td>\n",
       "      <td>English</td>\n",
       "      <td>0-18 years</td>\n",
       "      <td>2018-01-01</td>\n",
       "      <td>NaT</td>\n",
       "      <td>House Ads</td>\n",
       "      <td>True</td>\n",
       "    </tr>\n",
       "    <tr>\n",
       "      <th>1</th>\n",
       "      <td>a100000030</td>\n",
       "      <td>2018-01-01</td>\n",
       "      <td>House Ads</td>\n",
       "      <td>personalization</td>\n",
       "      <td>True</td>\n",
       "      <td>English</td>\n",
       "      <td>English</td>\n",
       "      <td>19-24 years</td>\n",
       "      <td>2018-01-01</td>\n",
       "      <td>NaT</td>\n",
       "      <td>House Ads</td>\n",
       "      <td>True</td>\n",
       "    </tr>\n",
       "    <tr>\n",
       "      <th>2</th>\n",
       "      <td>a100000031</td>\n",
       "      <td>2018-01-01</td>\n",
       "      <td>House Ads</td>\n",
       "      <td>personalization</td>\n",
       "      <td>True</td>\n",
       "      <td>English</td>\n",
       "      <td>English</td>\n",
       "      <td>24-30 years</td>\n",
       "      <td>2018-01-01</td>\n",
       "      <td>NaT</td>\n",
       "      <td>House Ads</td>\n",
       "      <td>True</td>\n",
       "    </tr>\n",
       "    <tr>\n",
       "      <th>3</th>\n",
       "      <td>a100000032</td>\n",
       "      <td>2018-01-01</td>\n",
       "      <td>House Ads</td>\n",
       "      <td>personalization</td>\n",
       "      <td>True</td>\n",
       "      <td>English</td>\n",
       "      <td>English</td>\n",
       "      <td>30-36 years</td>\n",
       "      <td>2018-01-01</td>\n",
       "      <td>NaT</td>\n",
       "      <td>House Ads</td>\n",
       "      <td>True</td>\n",
       "    </tr>\n",
       "    <tr>\n",
       "      <th>4</th>\n",
       "      <td>a100000033</td>\n",
       "      <td>2018-01-01</td>\n",
       "      <td>House Ads</td>\n",
       "      <td>personalization</td>\n",
       "      <td>True</td>\n",
       "      <td>English</td>\n",
       "      <td>English</td>\n",
       "      <td>36-45 years</td>\n",
       "      <td>2018-01-01</td>\n",
       "      <td>NaT</td>\n",
       "      <td>House Ads</td>\n",
       "      <td>True</td>\n",
       "    </tr>\n",
       "  </tbody>\n",
       "</table>\n",
       "</div>"
      ],
      "text/plain": [
       "      user_id date_served marketing_channel          variant  converted  \\\n",
       "0  a100000029  2018-01-01         House Ads  personalization       True   \n",
       "1  a100000030  2018-01-01         House Ads  personalization       True   \n",
       "2  a100000031  2018-01-01         House Ads  personalization       True   \n",
       "3  a100000032  2018-01-01         House Ads  personalization       True   \n",
       "4  a100000033  2018-01-01         House Ads  personalization       True   \n",
       "\n",
       "  language_displayed language_preferred    age_group date_subscribed  \\\n",
       "0            English            English   0-18 years      2018-01-01   \n",
       "1            English            English  19-24 years      2018-01-01   \n",
       "2            English            English  24-30 years      2018-01-01   \n",
       "3            English            English  30-36 years      2018-01-01   \n",
       "4            English            English  36-45 years      2018-01-01   \n",
       "\n",
       "  date_canceled subscribing_channel  is_retained  \n",
       "0           NaT           House Ads         True  \n",
       "1           NaT           House Ads         True  \n",
       "2           NaT           House Ads         True  \n",
       "3           NaT           House Ads         True  \n",
       "4           NaT           House Ads         True  "
      ]
     },
     "execution_count": 31,
     "metadata": {},
     "output_type": "execute_result"
    }
   ],
   "source": [
    "# marketing.head()"
   ]
  },
  {
   "cell_type": "markdown",
   "id": "68aa51b8",
   "metadata": {},
   "source": [
    "## What does a data analyst on a marketing team do?\n",
    ". Analyzing marketing campaign performance <br>\n",
    ". Attributing credit to marketing channel <br>\n",
    ". A/B testing <br>"
   ]
  },
  {
   "cell_type": "markdown",
   "id": "cedb40b6",
   "metadata": {},
   "source": [
    "#### do some EDA"
   ]
  },
  {
   "cell_type": "code",
   "execution_count": 55,
   "id": "ba02e4f6",
   "metadata": {},
   "outputs": [],
   "source": [
    "# marketing.describe()"
   ]
  },
  {
   "cell_type": "code",
   "execution_count": 24,
   "id": "03f5d6a5",
   "metadata": {},
   "outputs": [
    {
     "name": "stdout",
     "output_type": "stream",
     "text": [
      "<class 'pandas.core.frame.DataFrame'>\n",
      "RangeIndex: 10037 entries, 0 to 10036\n",
      "Data columns (total 12 columns):\n",
      " #   Column               Non-Null Count  Dtype         \n",
      "---  ------               --------------  -----         \n",
      " 0   user_id              10037 non-null  object        \n",
      " 1   date_served          10021 non-null  datetime64[ns]\n",
      " 2   marketing_channel    10022 non-null  object        \n",
      " 3   variant              10037 non-null  object        \n",
      " 4   converted            10037 non-null  bool          \n",
      " 5   language_displayed   10037 non-null  object        \n",
      " 6   language_preferred   10037 non-null  object        \n",
      " 7   age_group            10037 non-null  object        \n",
      " 8   date_subscribed      1856 non-null   datetime64[ns]\n",
      " 9   date_canceled        577 non-null    datetime64[ns]\n",
      " 10  subscribing_channel  1856 non-null   object        \n",
      " 11  is_retained          10037 non-null  bool          \n",
      "dtypes: bool(2), datetime64[ns](3), object(7)\n",
      "memory usage: 803.9+ KB\n"
     ]
    }
   ],
   "source": [
    "marketing.info()"
   ]
  },
  {
   "cell_type": "markdown",
   "id": "b342b72a",
   "metadata": {},
   "source": [
    "- change dtypes of columns"
   ]
  },
  {
   "cell_type": "code",
   "execution_count": 23,
   "id": "9f94edf7",
   "metadata": {},
   "outputs": [],
   "source": [
    "marketing['converted'] = marketing['converted'].astype('bool')\n",
    "marketing['is_retained'] = marketing['is_retained'].astype('bool')"
   ]
  },
  {
   "cell_type": "code",
   "execution_count": 37,
   "id": "eaabcc1e",
   "metadata": {
    "scrolled": true
   },
   "outputs": [],
   "source": [
    "# print(marketing['marketing_channel'].value_counts())\n",
    "\n",
    "channel_code_dict = {\n",
    "    \"House Ads\": 0,\n",
    "    \"Instagram\": 1,\n",
    "    \"Facebook\": 2,\n",
    "    \"Push\": 3,\n",
    "    \"Email\": 4,\n",
    "}\n",
    "\n",
    "marketing['channel_code'] = marketing['subscribing_channel'].map(channel_code_dict)"
   ]
  },
  {
   "cell_type": "code",
   "execution_count": 38,
   "id": "6c2dbec4",
   "metadata": {},
   "outputs": [],
   "source": [
    "marketing['is_correct_lang'] = np.where(\n",
    "    marketing['language_displayed'] == marketing['language_preferred'],\n",
    "    'Yes',\n",
    "    'No'\n",
    ")"
   ]
  },
  {
   "cell_type": "code",
   "execution_count": 45,
   "id": "83fe039e",
   "metadata": {},
   "outputs": [],
   "source": [
    "marketing['DoW'] = marketing['date_subscribed'].dt.dayofweek\n",
    "marketing['Year'] = marketing['date_subscribed'].dt.year\n",
    "marketing['Day'] = marketing['date_subscribed'].dt.day\n",
    "marketing['month'] = marketing['date_subscribed'].dt.month"
   ]
  },
  {
   "cell_type": "markdown",
   "id": "ed008885",
   "metadata": {},
   "source": [
    "### How many users see our marketing assets?"
   ]
  },
  {
   "cell_type": "code",
   "execution_count": 47,
   "id": "4564bc96",
   "metadata": {},
   "outputs": [],
   "source": [
    "daily_user = marketing.groupby(['date_served'])['user_id'].nunique()"
   ]
  },
  {
   "cell_type": "code",
   "execution_count": 52,
   "id": "6947cf18",
   "metadata": {},
   "outputs": [
    {
     "data": {
      "text/plain": [
       "date_served\n",
       "2018-01-01    362\n",
       "2018-01-02    374\n",
       "2018-01-03    348\n",
       "2018-01-04    323\n",
       "2018-01-05    319\n",
       "2018-01-06    308\n",
       "2018-01-07    275\n",
       "2018-01-08    312\n",
       "2018-01-09    312\n",
       "2018-01-10    337\n",
       "2018-01-11    310\n",
       "2018-01-12    301\n",
       "2018-01-13    306\n",
       "2018-01-14    305\n",
       "2018-01-15    767\n",
       "2018-01-16    388\n",
       "2018-01-17    369\n",
       "2018-01-18    318\n",
       "2018-01-19    305\n",
       "2018-01-20    311\n",
       "2018-01-21    229\n",
       "2018-01-22    178\n",
       "2018-01-23    172\n",
       "2018-01-24    190\n",
       "2018-01-25    184\n",
       "2018-01-26    222\n",
       "2018-01-27    320\n",
       "2018-01-28    320\n",
       "2018-01-29    319\n",
       "2018-01-30    317\n",
       "2018-01-31    340\n",
       "Name: user_id, dtype: int64"
      ]
     },
     "execution_count": 52,
     "metadata": {},
     "output_type": "execute_result"
    }
   ],
   "source": [
    "daily_user"
   ]
  },
  {
   "cell_type": "code",
   "execution_count": 64,
   "id": "e0619ee1",
   "metadata": {},
   "outputs": [
    {
     "data": {
      "image/png": "[encoded data removed]",
      "text/plain": [
       "<Figure size 432x288 with 1 Axes>"
      ]
     },
     "metadata": {
      "needs_background": "light"
     },
     "output_type": "display_data"
    }
   ],
   "source": [
    "daily_user.plot()\n",
    "\n",
    "plt.title(\"Daily users who see marketing assets\")\n",
    "plt.xlabel(\"Date\")\n",
    "plt.ylabel(\"Number of users\")\n",
    "\n",
    "plt.show()"
   ]
  },
  {
   "cell_type": "markdown",
   "id": "273ccf3c",
   "metadata": {},
   "source": [
    "- Much like in daily users who view marketing assets, there's a large peak around the time when an email blast goes out."
   ]
  },
  {
   "cell_type": "code",
   "execution_count": 65,
   "id": "ff0c4abf",
   "metadata": {},
   "outputs": [],
   "source": [
    "daily_active_users = marketing.groupby(['Day'])['user_id'].nunique()"
   ]
  },
  {
   "cell_type": "code",
   "execution_count": 66,
   "id": "b9fc57d2",
   "metadata": {},
   "outputs": [
    {
     "data": {
      "image/png": "[encoded data removed]",
      "text/plain": [
       "<Figure size 432x288 with 1 Axes>"
      ]
     },
     "metadata": {
      "needs_background": "light"
     },
     "output_type": "display_data"
    }
   ],
   "source": [
    "daily_active_users.plot()\n",
    "\n",
    "plt.title(\"Daily Active Users\")\n",
    "plt.xlabel(\"Date\")\n",
    "plt.ylabel(\"Number of users\")\n",
    "\n",
    "plt.show()"
   ]
  },
  {
   "cell_type": "markdown",
   "id": "6018f18b",
   "metadata": {},
   "source": [
    "# Analyzing campaign metrics"
   ]
  },
  {
   "cell_type": "markdown",
   "id": "b7b410df",
   "metadata": {},
   "source": [
    "### Was the campaign successful?"
   ]
  },
  {
   "cell_type": "markdown",
   "id": "85909aa5",
   "metadata": {},
   "source": [
    "- Conversion Rate <br>\n",
    "- Retention Rate"
   ]
  },
  {
   "cell_type": "code",
   "execution_count": 98,
   "id": "84c69119",
   "metadata": {
    "scrolled": true
   },
   "outputs": [
    {
     "data": {
      "text/html": [
       "<div>\n",
       "<style scoped>\n",
       "    .dataframe tbody tr th:only-of-type {\n",
       "        vertical-align: middle;\n",
       "    }\n",
       "\n",
       "    .dataframe tbody tr th {\n",
       "        vertical-align: top;\n",
       "    }\n",
       "\n",
       "    .dataframe thead th {\n",
       "        text-align: right;\n",
       "    }\n",
       "</style>\n",
       "<table border=\"1\" class=\"dataframe\">\n",
       "  <thead>\n",
       "    <tr style=\"text-align: right;\">\n",
       "      <th></th>\n",
       "      <th>user_id</th>\n",
       "      <th>date_served</th>\n",
       "      <th>marketing_channel</th>\n",
       "      <th>variant</th>\n",
       "      <th>converted</th>\n",
       "      <th>language_displayed</th>\n",
       "      <th>language_preferred</th>\n",
       "      <th>age_group</th>\n",
       "      <th>date_subscribed</th>\n",
       "      <th>date_canceled</th>\n",
       "      <th>subscribing_channel</th>\n",
       "      <th>is_retained</th>\n",
       "      <th>channel_code</th>\n",
       "      <th>is_correct_lang</th>\n",
       "      <th>DoW</th>\n",
       "      <th>Year</th>\n",
       "      <th>Day</th>\n",
       "      <th>month</th>\n",
       "    </tr>\n",
       "  </thead>\n",
       "  <tbody>\n",
       "    <tr>\n",
       "      <th>0</th>\n",
       "      <td>a100000029</td>\n",
       "      <td>2018-01-01</td>\n",
       "      <td>House Ads</td>\n",
       "      <td>personalization</td>\n",
       "      <td>True</td>\n",
       "      <td>English</td>\n",
       "      <td>English</td>\n",
       "      <td>0-18 years</td>\n",
       "      <td>2018-01-01</td>\n",
       "      <td>NaT</td>\n",
       "      <td>House Ads</td>\n",
       "      <td>True</td>\n",
       "      <td>0.0</td>\n",
       "      <td>Yes</td>\n",
       "      <td>0.0</td>\n",
       "      <td>2018.0</td>\n",
       "      <td>1.0</td>\n",
       "      <td>1.0</td>\n",
       "    </tr>\n",
       "    <tr>\n",
       "      <th>1</th>\n",
       "      <td>a100000030</td>\n",
       "      <td>2018-01-01</td>\n",
       "      <td>House Ads</td>\n",
       "      <td>personalization</td>\n",
       "      <td>True</td>\n",
       "      <td>English</td>\n",
       "      <td>English</td>\n",
       "      <td>19-24 years</td>\n",
       "      <td>2018-01-01</td>\n",
       "      <td>NaT</td>\n",
       "      <td>House Ads</td>\n",
       "      <td>True</td>\n",
       "      <td>0.0</td>\n",
       "      <td>Yes</td>\n",
       "      <td>0.0</td>\n",
       "      <td>2018.0</td>\n",
       "      <td>1.0</td>\n",
       "      <td>1.0</td>\n",
       "    </tr>\n",
       "    <tr>\n",
       "      <th>2</th>\n",
       "      <td>a100000031</td>\n",
       "      <td>2018-01-01</td>\n",
       "      <td>House Ads</td>\n",
       "      <td>personalization</td>\n",
       "      <td>True</td>\n",
       "      <td>English</td>\n",
       "      <td>English</td>\n",
       "      <td>24-30 years</td>\n",
       "      <td>2018-01-01</td>\n",
       "      <td>NaT</td>\n",
       "      <td>House Ads</td>\n",
       "      <td>True</td>\n",
       "      <td>0.0</td>\n",
       "      <td>Yes</td>\n",
       "      <td>0.0</td>\n",
       "      <td>2018.0</td>\n",
       "      <td>1.0</td>\n",
       "      <td>1.0</td>\n",
       "    </tr>\n",
       "    <tr>\n",
       "      <th>3</th>\n",
       "      <td>a100000032</td>\n",
       "      <td>2018-01-01</td>\n",
       "      <td>House Ads</td>\n",
       "      <td>personalization</td>\n",
       "      <td>True</td>\n",
       "      <td>English</td>\n",
       "      <td>English</td>\n",
       "      <td>30-36 years</td>\n",
       "      <td>2018-01-01</td>\n",
       "      <td>NaT</td>\n",
       "      <td>House Ads</td>\n",
       "      <td>True</td>\n",
       "      <td>0.0</td>\n",
       "      <td>Yes</td>\n",
       "      <td>0.0</td>\n",
       "      <td>2018.0</td>\n",
       "      <td>1.0</td>\n",
       "      <td>1.0</td>\n",
       "    </tr>\n",
       "    <tr>\n",
       "      <th>4</th>\n",
       "      <td>a100000033</td>\n",
       "      <td>2018-01-01</td>\n",
       "      <td>House Ads</td>\n",
       "      <td>personalization</td>\n",
       "      <td>True</td>\n",
       "      <td>English</td>\n",
       "      <td>English</td>\n",
       "      <td>36-45 years</td>\n",
       "      <td>2018-01-01</td>\n",
       "      <td>NaT</td>\n",
       "      <td>House Ads</td>\n",
       "      <td>True</td>\n",
       "      <td>0.0</td>\n",
       "      <td>Yes</td>\n",
       "      <td>0.0</td>\n",
       "      <td>2018.0</td>\n",
       "      <td>1.0</td>\n",
       "      <td>1.0</td>\n",
       "    </tr>\n",
       "  </tbody>\n",
       "</table>\n",
       "</div>"
      ],
      "text/plain": [
       "      user_id date_served marketing_channel          variant  converted  \\\n",
       "0  a100000029  2018-01-01         House Ads  personalization       True   \n",
       "1  a100000030  2018-01-01         House Ads  personalization       True   \n",
       "2  a100000031  2018-01-01         House Ads  personalization       True   \n",
       "3  a100000032  2018-01-01         House Ads  personalization       True   \n",
       "4  a100000033  2018-01-01         House Ads  personalization       True   \n",
       "\n",
       "  language_displayed language_preferred    age_group date_subscribed  \\\n",
       "0            English            English   0-18 years      2018-01-01   \n",
       "1            English            English  19-24 years      2018-01-01   \n",
       "2            English            English  24-30 years      2018-01-01   \n",
       "3            English            English  30-36 years      2018-01-01   \n",
       "4            English            English  36-45 years      2018-01-01   \n",
       "\n",
       "  date_canceled subscribing_channel  is_retained  channel_code  \\\n",
       "0           NaT           House Ads         True           0.0   \n",
       "1           NaT           House Ads         True           0.0   \n",
       "2           NaT           House Ads         True           0.0   \n",
       "3           NaT           House Ads         True           0.0   \n",
       "4           NaT           House Ads         True           0.0   \n",
       "\n",
       "  is_correct_lang  DoW    Year  Day  month  \n",
       "0             Yes  0.0  2018.0  1.0    1.0  \n",
       "1             Yes  0.0  2018.0  1.0    1.0  \n",
       "2             Yes  0.0  2018.0  1.0    1.0  \n",
       "3             Yes  0.0  2018.0  1.0    1.0  \n",
       "4             Yes  0.0  2018.0  1.0    1.0  "
      ]
     },
     "execution_count": 98,
     "metadata": {},
     "output_type": "execute_result"
    }
   ],
   "source": [
    "marketing.head()"
   ]
  },
  {
   "cell_type": "code",
   "execution_count": 103,
   "id": "64b373b2",
   "metadata": {},
   "outputs": [
    {
     "name": "stdout",
     "output_type": "stream",
     "text": [
      "Conversion Rate is -----> 14.09%\n"
     ]
    }
   ],
   "source": [
    "# conversion_rate\n",
    "\n",
    "converted_users = marketing[marketing['converted'] == True]['user_id'].nunique()\n",
    "total_users = marketing['user_id'].nunique()\n",
    "conv_rate = converted_users / total_users\n",
    "\n",
    "conversion_rate = round(conv_rate*100, 2)\n",
    "print(f\"Conversion Rate is -----> {conversion_rate}%\")"
   ]
  },
  {
   "cell_type": "markdown",
   "id": "f0febbc3",
   "metadata": {},
   "source": [
    "is it a good conversion rate? <br>\n",
    "answer: depends on. <br>\n",
    "This will depend heavily on your business. There is no particular number that all marketing teams are trying to reach. Instead, when you're working on a marketing team, it helps to look at historical data to determine whether a conversion rate is what you would expect."
   ]
  },
  {
   "cell_type": "code",
   "execution_count": 107,
   "id": "4f5b6ce5",
   "metadata": {},
   "outputs": [
    {
     "name": "stdout",
     "output_type": "stream",
     "text": [
      "Retention Rate is -----> 67.57%\n"
     ]
    }
   ],
   "source": [
    "# retention rate = retained_users / total_subscribed\n",
    "\n",
    "total_subscribed = marketing[marketing['converted'] == True]['user_id'].nunique()\n",
    "# retained = marketing[marketing['is_retained'] == True]['user_id'].nunique()\n",
    "converted_users = marketing[marketing['converted'] == True]\n",
    "retained_users = converted_users[converted_users['is_retained'] == True]['user_id'].nunique()\n",
    "reten_rate = retained_users / total_subscribed\n",
    "\n",
    "retention_rate = round(reten_rate*100, 2)\n",
    "print(f\"Retention Rate is -----> {retention_rate}%\")"
   ]
  },
  {
   "cell_type": "markdown",
   "id": "f26d20e6",
   "metadata": {},
   "source": [
    "Much like with conversion rate, there is no retention rate that will apply across businesses and industries. <br>\n",
    "Look at historical retention rates or retention rates of companies in a similar industry to interpret your results"
   ]
  },
  {
   "cell_type": "markdown",
   "id": "db2ec3f6",
   "metadata": {},
   "source": [
    "# Customer Segmentation"
   ]
  },
  {
   "cell_type": "markdown",
   "id": "2cf75ab3",
   "metadata": {},
   "source": [
    "- marketing channels"
   ]
  },
  {
   "cell_type": "code",
   "execution_count": 142,
   "id": "be6ff361",
   "metadata": {},
   "outputs": [
    {
     "name": "stdout",
     "output_type": "stream",
     "text": [
      "Conversion rate for each marketing channel is: subscribing_channel\n",
      "Email         83.85\n",
      "Facebook     100.00\n",
      "House Ads    100.00\n",
      "Instagram    100.00\n",
      "Push         100.00\n",
      "Name: user_id, dtype: float64\n"
     ]
    },
    {
     "data": {
      "image/png": "[encoded data removed]",
      "text/plain": [
       "<Figure size 432x288 with 1 Axes>"
      ]
     },
     "metadata": {
      "needs_background": "light"
     },
     "output_type": "display_data"
    }
   ],
   "source": [
    "# conversion rate \n",
    "\n",
    "converted_channels = marketing[marketing['converted'] == True].groupby(['subscribing_channel'])['user_id'].nunique()\n",
    "total_users_channels = marketing.groupby(['subscribing_channel'])['user_id'].nunique()\n",
    "\n",
    "conv_rate_channels = round((converted_channels/total_users_channels)*100,2)\n",
    "print(f\"Conversion rate for each marketing channel is: {conv_rate_channels}\")\n",
    "\n",
    "\n",
    "\n",
    "# visualize\n",
    "conv_rate_channels.plot(kind='bar')\n",
    "\n",
    "plt.title(\"Conversion rate per marketing channels\")\n",
    "plt.xlabel(\"Marketing Channel\")\n",
    "plt.ylabel(\"Conversion Rate\")\n",
    "plt.xticks(rotation=45)\n",
    "\n",
    "plt.show()"
   ]
  },
  {
   "cell_type": "code",
   "execution_count": 144,
   "id": "03f0d86f",
   "metadata": {},
   "outputs": [
    {
     "name": "stdout",
     "output_type": "stream",
     "text": [
      "Retention rate for each marketing channel is: subscribing_channel\n",
      "Email        73.29\n",
      "Facebook     68.78\n",
      "House Ads    58.05\n",
      "Instagram    68.10\n",
      "Push         70.13\n",
      "Name: user_id, dtype: float64\n"
     ]
    },
    {
     "data": {
      "image/png": "[encoded data removed]",
      "text/plain": [
       "<Figure size 432x288 with 1 Axes>"
      ]
     },
     "metadata": {
      "needs_background": "light"
     },
     "output_type": "display_data"
    }
   ],
   "source": [
    "# conversion rate \n",
    "\n",
    "converted = marketing[marketing['converted'] == True]\n",
    "\n",
    "retained_channels = converted[converted['is_retained'] == True].groupby(['subscribing_channel'])['user_id'].nunique()\n",
    "total_subscribers = marketing[marketing['converted'] == True].groupby(['subscribing_channel'])['user_id'].nunique()\n",
    "\n",
    "reten_rate_channels = round((retained_channels/total_subscribers)*100, 2)\n",
    "print(f\"Retention rate for each marketing channel is: {reten_rate_channels}\")\n",
    "\n",
    "\n",
    "# visualize\n",
    "reten_rate_channels.plot(kind='bar')\n",
    "\n",
    "plt.title(\"Retention rate per marketing channels\")\n",
    "plt.xlabel(\"Marketing Channel\")\n",
    "plt.ylabel(\"Conversion Rate\")\n",
    "plt.xticks(rotation=45)\n",
    "\n",
    "plt.show()"
   ]
  },
  {
   "cell_type": "markdown",
   "id": "478b8a90",
   "metadata": {},
   "source": [
    "- language"
   ]
  },
  {
   "cell_type": "code",
   "execution_count": 145,
   "id": "bee4d06e",
   "metadata": {},
   "outputs": [
    {
     "name": "stdout",
     "output_type": "stream",
     "text": [
      "conversion rate for language displayed: language_displayed\n",
      "Arabic     50.00\n",
      "English    13.13\n",
      "German     71.62\n",
      "Spanish    20.00\n",
      "Name: user_id, dtype: float64\n"
     ]
    },
    {
     "data": {
      "image/png": "[encoded data removed]",
      "text/plain": [
       "<Figure size 432x288 with 1 Axes>"
      ]
     },
     "metadata": {
      "needs_background": "light"
     },
     "output_type": "display_data"
    }
   ],
   "source": [
    "# conversion rate \n",
    "\n",
    "\n",
    "convert_languages = marketing[marketing['converted'] == True].groupby(['language_displayed'])['user_id'].nunique()\n",
    "total_user_language = marketing.groupby('language_displayed')['user_id'].nunique()\n",
    "\n",
    "conv_rate_language = round((convert_languages/total_user_language)*100, 2)\n",
    "print(f\"conversion rate for language displayed: {conv_rate_language}\")\n",
    "\n",
    "# visualize\n",
    "conv_rate_language.plot(kind='bar')\n",
    "\n",
    "plt.title(\"Conversion rate per languages\")\n",
    "plt.xlabel(\"Language\")\n",
    "plt.ylabel(\"Conversion Rate\")\n",
    "plt.xticks(rotation=45)\n",
    "\n",
    "plt.show()"
   ]
  },
  {
   "cell_type": "markdown",
   "id": "0381f2c9",
   "metadata": {},
   "source": [
    "- conversion rate per day"
   ]
  },
  {
   "cell_type": "code",
   "execution_count": 150,
   "id": "28132b15",
   "metadata": {},
   "outputs": [
    {
     "name": "stdout",
     "output_type": "stream",
     "text": [
      "date_served\n",
      "2018-01-01     9.94\n",
      "2018-01-02     9.89\n",
      "2018-01-03    10.34\n",
      "2018-01-04    10.84\n",
      "2018-01-05    12.54\n",
      "2018-01-06    11.36\n",
      "2018-01-07    14.18\n",
      "2018-01-08    11.54\n",
      "2018-01-09    12.50\n",
      "2018-01-10    11.87\n",
      "2018-01-11     8.06\n",
      "2018-01-12     7.64\n",
      "2018-01-13     8.50\n",
      "2018-01-14     8.52\n",
      "2018-01-15    11.34\n",
      "2018-01-16    25.52\n",
      "2018-01-17    21.95\n",
      "2018-01-18     9.12\n",
      "2018-01-19     5.90\n",
      "2018-01-20     6.75\n",
      "2018-01-21     8.73\n",
      "2018-01-22    12.36\n",
      "2018-01-23    12.21\n",
      "2018-01-24    11.58\n",
      "2018-01-25    12.50\n",
      "2018-01-26     9.01\n",
      "2018-01-27     6.56\n",
      "2018-01-28     6.25\n",
      "2018-01-29     5.96\n",
      "2018-01-30     6.62\n",
      "2018-01-31     5.29\n",
      "Name: user_id, dtype: float64\n"
     ]
    },
    {
     "data": {
      "image/png": "[encoded data removed]",
      "text/plain": [
       "<Figure size 432x288 with 1 Axes>"
      ]
     },
     "metadata": {
      "needs_background": "light"
     },
     "output_type": "display_data"
    }
   ],
   "source": [
    "total_per_day = marketing.groupby(['date_served'])['user_id'].nunique()\n",
    "converted_per_day = marketing[marketing['converted'] == True].groupby(['date_served'])['user_id'].nunique()\n",
    "\n",
    "conv_per_day = round((converted_per_day/total_per_day)*100, 2)\n",
    "print(conv_per_day)\n",
    "\n",
    "\n",
    "# visualize\n",
    "\n",
    "conv_per_day_df.plot()\n",
    "\n",
    "plt.title(\"Conversion rate per day\")\n",
    "plt.xlabel(\"Date\")\n",
    "plt.ylabel(\"Conversion Rate\")\n",
    "plt.xticks(rotation=45)\n",
    "\n",
    "plt.show()"
   ]
  },
  {
   "cell_type": "markdown",
   "id": "5393b0cb",
   "metadata": {},
   "source": [
    "- daily per channel"
   ]
  },
  {
   "cell_type": "code",
   "execution_count": 165,
   "id": "68e03bc3",
   "metadata": {},
   "outputs": [],
   "source": [
    "# retention rate\n",
    "\n",
    "total = marketing.groupby(['date_served', 'subscribing_channel'])['user_id'].nunique()\n",
    "retained = marketing[marketing['is_retained'] == True]\\\n",
    ".groupby(['date_served', 'subscribing_channel'])['user_id'].nunique()\n",
    "\n",
    "daily_channels_retention = round((retained/total)*100, 2)\n",
    "daily_channels_retention_df = daily_channels_retention.unstack(level=1)"
   ]
  },
  {
   "cell_type": "code",
   "execution_count": 166,
   "id": "f7dd8f19",
   "metadata": {},
   "outputs": [
    {
     "data": {
      "text/html": [
       "<div>\n",
       "<style scoped>\n",
       "    .dataframe tbody tr th:only-of-type {\n",
       "        vertical-align: middle;\n",
       "    }\n",
       "\n",
       "    .dataframe tbody tr th {\n",
       "        vertical-align: top;\n",
       "    }\n",
       "\n",
       "    .dataframe thead th {\n",
       "        text-align: right;\n",
       "    }\n",
       "</style>\n",
       "<table border=\"1\" class=\"dataframe\">\n",
       "  <thead>\n",
       "    <tr style=\"text-align: right;\">\n",
       "      <th>subscribing_channel</th>\n",
       "      <th>Email</th>\n",
       "      <th>Facebook</th>\n",
       "      <th>House Ads</th>\n",
       "      <th>Instagram</th>\n",
       "      <th>Push</th>\n",
       "    </tr>\n",
       "    <tr>\n",
       "      <th>date_served</th>\n",
       "      <th></th>\n",
       "      <th></th>\n",
       "      <th></th>\n",
       "      <th></th>\n",
       "      <th></th>\n",
       "    </tr>\n",
       "  </thead>\n",
       "  <tbody>\n",
       "    <tr>\n",
       "      <th>2018-01-01</th>\n",
       "      <td>100.00</td>\n",
       "      <td>84.62</td>\n",
       "      <td>60.61</td>\n",
       "      <td>80.95</td>\n",
       "      <td>100.00</td>\n",
       "    </tr>\n",
       "    <tr>\n",
       "      <th>2018-01-02</th>\n",
       "      <td>75.00</td>\n",
       "      <td>91.67</td>\n",
       "      <td>58.82</td>\n",
       "      <td>81.40</td>\n",
       "      <td>90.91</td>\n",
       "    </tr>\n",
       "    <tr>\n",
       "      <th>2018-01-03</th>\n",
       "      <td>100.00</td>\n",
       "      <td>71.43</td>\n",
       "      <td>64.71</td>\n",
       "      <td>78.95</td>\n",
       "      <td>85.71</td>\n",
       "    </tr>\n",
       "    <tr>\n",
       "      <th>2018-01-04</th>\n",
       "      <td>66.67</td>\n",
       "      <td>69.23</td>\n",
       "      <td>39.29</td>\n",
       "      <td>62.50</td>\n",
       "      <td>66.67</td>\n",
       "    </tr>\n",
       "    <tr>\n",
       "      <th>2018-01-05</th>\n",
       "      <td>72.73</td>\n",
       "      <td>60.00</td>\n",
       "      <td>50.00</td>\n",
       "      <td>58.82</td>\n",
       "      <td>66.67</td>\n",
       "    </tr>\n",
       "    <tr>\n",
       "      <th>2018-01-06</th>\n",
       "      <td>85.71</td>\n",
       "      <td>60.00</td>\n",
       "      <td>94.12</td>\n",
       "      <td>63.64</td>\n",
       "      <td>57.14</td>\n",
       "    </tr>\n",
       "    <tr>\n",
       "      <th>2018-01-07</th>\n",
       "      <td>66.67</td>\n",
       "      <td>76.92</td>\n",
       "      <td>52.63</td>\n",
       "      <td>71.43</td>\n",
       "      <td>80.00</td>\n",
       "    </tr>\n",
       "    <tr>\n",
       "      <th>2018-01-08</th>\n",
       "      <td>33.33</td>\n",
       "      <td>76.92</td>\n",
       "      <td>50.00</td>\n",
       "      <td>64.71</td>\n",
       "      <td>75.00</td>\n",
       "    </tr>\n",
       "    <tr>\n",
       "      <th>2018-01-09</th>\n",
       "      <td>66.67</td>\n",
       "      <td>50.00</td>\n",
       "      <td>85.00</td>\n",
       "      <td>75.00</td>\n",
       "      <td>50.00</td>\n",
       "    </tr>\n",
       "    <tr>\n",
       "      <th>2018-01-10</th>\n",
       "      <td>80.00</td>\n",
       "      <td>81.82</td>\n",
       "      <td>55.32</td>\n",
       "      <td>71.43</td>\n",
       "      <td>75.00</td>\n",
       "    </tr>\n",
       "    <tr>\n",
       "      <th>2018-01-11</th>\n",
       "      <td>50.00</td>\n",
       "      <td>50.00</td>\n",
       "      <td>16.67</td>\n",
       "      <td>78.95</td>\n",
       "      <td>100.00</td>\n",
       "    </tr>\n",
       "    <tr>\n",
       "      <th>2018-01-12</th>\n",
       "      <td>66.67</td>\n",
       "      <td>54.55</td>\n",
       "      <td>NaN</td>\n",
       "      <td>56.25</td>\n",
       "      <td>60.00</td>\n",
       "    </tr>\n",
       "    <tr>\n",
       "      <th>2018-01-13</th>\n",
       "      <td>50.00</td>\n",
       "      <td>69.23</td>\n",
       "      <td>16.67</td>\n",
       "      <td>60.00</td>\n",
       "      <td>66.67</td>\n",
       "    </tr>\n",
       "    <tr>\n",
       "      <th>2018-01-14</th>\n",
       "      <td>100.00</td>\n",
       "      <td>50.00</td>\n",
       "      <td>16.67</td>\n",
       "      <td>78.57</td>\n",
       "      <td>NaN</td>\n",
       "    </tr>\n",
       "    <tr>\n",
       "      <th>2018-01-15</th>\n",
       "      <td>78.69</td>\n",
       "      <td>60.00</td>\n",
       "      <td>16.67</td>\n",
       "      <td>66.67</td>\n",
       "      <td>87.50</td>\n",
       "    </tr>\n",
       "    <tr>\n",
       "      <th>2018-01-16</th>\n",
       "      <td>94.55</td>\n",
       "      <td>63.16</td>\n",
       "      <td>16.67</td>\n",
       "      <td>43.48</td>\n",
       "      <td>61.54</td>\n",
       "    </tr>\n",
       "    <tr>\n",
       "      <th>2018-01-17</th>\n",
       "      <td>41.67</td>\n",
       "      <td>70.59</td>\n",
       "      <td>33.33</td>\n",
       "      <td>90.48</td>\n",
       "      <td>90.91</td>\n",
       "    </tr>\n",
       "    <tr>\n",
       "      <th>2018-01-18</th>\n",
       "      <td>100.00</td>\n",
       "      <td>72.73</td>\n",
       "      <td>50.00</td>\n",
       "      <td>92.86</td>\n",
       "      <td>NaN</td>\n",
       "    </tr>\n",
       "    <tr>\n",
       "      <th>2018-01-19</th>\n",
       "      <td>50.00</td>\n",
       "      <td>71.43</td>\n",
       "      <td>60.00</td>\n",
       "      <td>77.78</td>\n",
       "      <td>100.00</td>\n",
       "    </tr>\n",
       "    <tr>\n",
       "      <th>2018-01-20</th>\n",
       "      <td>100.00</td>\n",
       "      <td>77.78</td>\n",
       "      <td>83.33</td>\n",
       "      <td>88.89</td>\n",
       "      <td>100.00</td>\n",
       "    </tr>\n",
       "    <tr>\n",
       "      <th>2018-01-21</th>\n",
       "      <td>100.00</td>\n",
       "      <td>80.00</td>\n",
       "      <td>60.00</td>\n",
       "      <td>88.89</td>\n",
       "      <td>100.00</td>\n",
       "    </tr>\n",
       "    <tr>\n",
       "      <th>2018-01-22</th>\n",
       "      <td>100.00</td>\n",
       "      <td>87.50</td>\n",
       "      <td>66.67</td>\n",
       "      <td>81.82</td>\n",
       "      <td>100.00</td>\n",
       "    </tr>\n",
       "    <tr>\n",
       "      <th>2018-01-23</th>\n",
       "      <td>100.00</td>\n",
       "      <td>77.78</td>\n",
       "      <td>60.00</td>\n",
       "      <td>75.00</td>\n",
       "      <td>100.00</td>\n",
       "    </tr>\n",
       "    <tr>\n",
       "      <th>2018-01-24</th>\n",
       "      <td>50.00</td>\n",
       "      <td>60.00</td>\n",
       "      <td>66.67</td>\n",
       "      <td>61.54</td>\n",
       "      <td>75.00</td>\n",
       "    </tr>\n",
       "    <tr>\n",
       "      <th>2018-01-25</th>\n",
       "      <td>50.00</td>\n",
       "      <td>77.78</td>\n",
       "      <td>83.33</td>\n",
       "      <td>50.00</td>\n",
       "      <td>NaN</td>\n",
       "    </tr>\n",
       "    <tr>\n",
       "      <th>2018-01-26</th>\n",
       "      <td>20.00</td>\n",
       "      <td>50.00</td>\n",
       "      <td>83.33</td>\n",
       "      <td>58.33</td>\n",
       "      <td>33.33</td>\n",
       "    </tr>\n",
       "    <tr>\n",
       "      <th>2018-01-27</th>\n",
       "      <td>50.00</td>\n",
       "      <td>72.73</td>\n",
       "      <td>83.33</td>\n",
       "      <td>58.33</td>\n",
       "      <td>60.00</td>\n",
       "    </tr>\n",
       "    <tr>\n",
       "      <th>2018-01-28</th>\n",
       "      <td>50.00</td>\n",
       "      <td>83.33</td>\n",
       "      <td>66.67</td>\n",
       "      <td>90.91</td>\n",
       "      <td>100.00</td>\n",
       "    </tr>\n",
       "    <tr>\n",
       "      <th>2018-01-29</th>\n",
       "      <td>100.00</td>\n",
       "      <td>100.00</td>\n",
       "      <td>40.00</td>\n",
       "      <td>91.67</td>\n",
       "      <td>75.00</td>\n",
       "    </tr>\n",
       "    <tr>\n",
       "      <th>2018-01-30</th>\n",
       "      <td>80.00</td>\n",
       "      <td>85.71</td>\n",
       "      <td>50.00</td>\n",
       "      <td>100.00</td>\n",
       "      <td>60.00</td>\n",
       "    </tr>\n",
       "    <tr>\n",
       "      <th>2018-01-31</th>\n",
       "      <td>66.67</td>\n",
       "      <td>58.33</td>\n",
       "      <td>50.00</td>\n",
       "      <td>42.86</td>\n",
       "      <td>50.00</td>\n",
       "    </tr>\n",
       "  </tbody>\n",
       "</table>\n",
       "</div>"
      ],
      "text/plain": [
       "subscribing_channel   Email  Facebook  House Ads  Instagram    Push\n",
       "date_served                                                        \n",
       "2018-01-01           100.00     84.62      60.61      80.95  100.00\n",
       "2018-01-02            75.00     91.67      58.82      81.40   90.91\n",
       "2018-01-03           100.00     71.43      64.71      78.95   85.71\n",
       "2018-01-04            66.67     69.23      39.29      62.50   66.67\n",
       "2018-01-05            72.73     60.00      50.00      58.82   66.67\n",
       "2018-01-06            85.71     60.00      94.12      63.64   57.14\n",
       "2018-01-07            66.67     76.92      52.63      71.43   80.00\n",
       "2018-01-08            33.33     76.92      50.00      64.71   75.00\n",
       "2018-01-09            66.67     50.00      85.00      75.00   50.00\n",
       "2018-01-10            80.00     81.82      55.32      71.43   75.00\n",
       "2018-01-11            50.00     50.00      16.67      78.95  100.00\n",
       "2018-01-12            66.67     54.55        NaN      56.25   60.00\n",
       "2018-01-13            50.00     69.23      16.67      60.00   66.67\n",
       "2018-01-14           100.00     50.00      16.67      78.57     NaN\n",
       "2018-01-15            78.69     60.00      16.67      66.67   87.50\n",
       "2018-01-16            94.55     63.16      16.67      43.48   61.54\n",
       "2018-01-17            41.67     70.59      33.33      90.48   90.91\n",
       "2018-01-18           100.00     72.73      50.00      92.86     NaN\n",
       "2018-01-19            50.00     71.43      60.00      77.78  100.00\n",
       "2018-01-20           100.00     77.78      83.33      88.89  100.00\n",
       "2018-01-21           100.00     80.00      60.00      88.89  100.00\n",
       "2018-01-22           100.00     87.50      66.67      81.82  100.00\n",
       "2018-01-23           100.00     77.78      60.00      75.00  100.00\n",
       "2018-01-24            50.00     60.00      66.67      61.54   75.00\n",
       "2018-01-25            50.00     77.78      83.33      50.00     NaN\n",
       "2018-01-26            20.00     50.00      83.33      58.33   33.33\n",
       "2018-01-27            50.00     72.73      83.33      58.33   60.00\n",
       "2018-01-28            50.00     83.33      66.67      90.91  100.00\n",
       "2018-01-29           100.00    100.00      40.00      91.67   75.00\n",
       "2018-01-30            80.00     85.71      50.00     100.00   60.00\n",
       "2018-01-31            66.67     58.33      50.00      42.86   50.00"
      ]
     },
     "execution_count": 166,
     "metadata": {},
     "output_type": "execute_result"
    }
   ],
   "source": [
    "daily_channels_retention_df"
   ]
  },
  {
   "cell_type": "code",
   "execution_count": null,
   "id": "efc72aec",
   "metadata": {},
   "outputs": [],
   "source": []
  }
 ],
 "metadata": {
  "kernelspec": {
   "display_name": "Python 3 (ipykernel)",
   "language": "python",
   "name": "python3"
  },
  "language_info": {
   "codemirror_mode": {
    "name": "ipython",
    "version": 3
   },
   "file_extension": ".py",
   "mimetype": "text/x-python",
   "name": "python",
   "nbconvert_exporter": "python",
   "pygments_lexer": "ipython3",
   "version": "3.8.12"
  }
 },
 "nbformat": 4,
 "nbformat_minor": 5
}
