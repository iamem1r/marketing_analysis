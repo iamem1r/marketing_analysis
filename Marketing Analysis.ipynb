{
 "cells": [
  {
   "cell_type": "markdown",
   "id": "ca76ae19",
   "metadata": {},
   "source": [
    "### Imports"
   ]
  },
  {
   "cell_type": "code",
   "execution_count": 50,
   "id": "10473f9b",
   "metadata": {},
   "outputs": [],
   "source": [
    "import pandas as pd\n",
    "import numpy as np\n",
    "import matplotlib.pyplot as plt"
   ]
  },
  {
   "cell_type": "markdown",
   "id": "e41df68a",
   "metadata": {},
   "source": [
    "### Load and Read dataset"
   ]
  },
  {
   "cell_type": "code",
   "execution_count": 13,
   "id": "f8e5fa5f",
   "metadata": {},
   "outputs": [],
   "source": [
    "marketing = pd.read_csv(\n",
    "    filepath_or_buffer='marketing.csv', \n",
    "    parse_dates=['date_served', 'date_subscribed', 'date_canceled'])"
   ]
  },
  {
   "cell_type": "code",
   "execution_count": 31,
   "id": "e6e0a572",
   "metadata": {},
   "outputs": [
    {
     "data": {
      "text/html": [
       "<div>\n",
       "<style scoped>\n",
       "    .dataframe tbody tr th:only-of-type {\n",
       "        vertical-align: middle;\n",
       "    }\n",
       "\n",
       "    .dataframe tbody tr th {\n",
       "        vertical-align: top;\n",
       "    }\n",
       "\n",
       "    .dataframe thead th {\n",
       "        text-align: right;\n",
       "    }\n",
       "</style>\n",
       "<table border=\"1\" class=\"dataframe\">\n",
       "  <thead>\n",
       "    <tr style=\"text-align: right;\">\n",
       "      <th></th>\n",
       "      <th>user_id</th>\n",
       "      <th>date_served</th>\n",
       "      <th>marketing_channel</th>\n",
       "      <th>variant</th>\n",
       "      <th>converted</th>\n",
       "      <th>language_displayed</th>\n",
       "      <th>language_preferred</th>\n",
       "      <th>age_group</th>\n",
       "      <th>date_subscribed</th>\n",
       "      <th>date_canceled</th>\n",
       "      <th>subscribing_channel</th>\n",
       "      <th>is_retained</th>\n",
       "    </tr>\n",
       "  </thead>\n",
       "  <tbody>\n",
       "    <tr>\n",
       "      <th>0</th>\n",
       "      <td>a100000029</td>\n",
       "      <td>2018-01-01</td>\n",
       "      <td>House Ads</td>\n",
       "      <td>personalization</td>\n",
       "      <td>True</td>\n",
       "      <td>English</td>\n",
       "      <td>English</td>\n",
       "      <td>0-18 years</td>\n",
       "      <td>2018-01-01</td>\n",
       "      <td>NaT</td>\n",
       "      <td>House Ads</td>\n",
       "      <td>True</td>\n",
       "    </tr>\n",
       "    <tr>\n",
       "      <th>1</th>\n",
       "      <td>a100000030</td>\n",
       "      <td>2018-01-01</td>\n",
       "      <td>House Ads</td>\n",
       "      <td>personalization</td>\n",
       "      <td>True</td>\n",
       "      <td>English</td>\n",
       "      <td>English</td>\n",
       "      <td>19-24 years</td>\n",
       "      <td>2018-01-01</td>\n",
       "      <td>NaT</td>\n",
       "      <td>House Ads</td>\n",
       "      <td>True</td>\n",
       "    </tr>\n",
       "    <tr>\n",
       "      <th>2</th>\n",
       "      <td>a100000031</td>\n",
       "      <td>2018-01-01</td>\n",
       "      <td>House Ads</td>\n",
       "      <td>personalization</td>\n",
       "      <td>True</td>\n",
       "      <td>English</td>\n",
       "      <td>English</td>\n",
       "      <td>24-30 years</td>\n",
       "      <td>2018-01-01</td>\n",
       "      <td>NaT</td>\n",
       "      <td>House Ads</td>\n",
       "      <td>True</td>\n",
       "    </tr>\n",
       "    <tr>\n",
       "      <th>3</th>\n",
       "      <td>a100000032</td>\n",
       "      <td>2018-01-01</td>\n",
       "      <td>House Ads</td>\n",
       "      <td>personalization</td>\n",
       "      <td>True</td>\n",
       "      <td>English</td>\n",
       "      <td>English</td>\n",
       "      <td>30-36 years</td>\n",
       "      <td>2018-01-01</td>\n",
       "      <td>NaT</td>\n",
       "      <td>House Ads</td>\n",
       "      <td>True</td>\n",
       "    </tr>\n",
       "    <tr>\n",
       "      <th>4</th>\n",
       "      <td>a100000033</td>\n",
       "      <td>2018-01-01</td>\n",
       "      <td>House Ads</td>\n",
       "      <td>personalization</td>\n",
       "      <td>True</td>\n",
       "      <td>English</td>\n",
       "      <td>English</td>\n",
       "      <td>36-45 years</td>\n",
       "      <td>2018-01-01</td>\n",
       "      <td>NaT</td>\n",
       "      <td>House Ads</td>\n",
       "      <td>True</td>\n",
       "    </tr>\n",
       "  </tbody>\n",
       "</table>\n",
       "</div>"
      ],
      "text/plain": [
       "      user_id date_served marketing_channel          variant  converted  \\\n",
       "0  a100000029  2018-01-01         House Ads  personalization       True   \n",
       "1  a100000030  2018-01-01         House Ads  personalization       True   \n",
       "2  a100000031  2018-01-01         House Ads  personalization       True   \n",
       "3  a100000032  2018-01-01         House Ads  personalization       True   \n",
       "4  a100000033  2018-01-01         House Ads  personalization       True   \n",
       "\n",
       "  language_displayed language_preferred    age_group date_subscribed  \\\n",
       "0            English            English   0-18 years      2018-01-01   \n",
       "1            English            English  19-24 years      2018-01-01   \n",
       "2            English            English  24-30 years      2018-01-01   \n",
       "3            English            English  30-36 years      2018-01-01   \n",
       "4            English            English  36-45 years      2018-01-01   \n",
       "\n",
       "  date_canceled subscribing_channel  is_retained  \n",
       "0           NaT           House Ads         True  \n",
       "1           NaT           House Ads         True  \n",
       "2           NaT           House Ads         True  \n",
       "3           NaT           House Ads         True  \n",
       "4           NaT           House Ads         True  "
      ]
     },
     "execution_count": 31,
     "metadata": {},
     "output_type": "execute_result"
    }
   ],
   "source": [
    "# marketing.head()"
   ]
  },
  {
   "cell_type": "markdown",
   "id": "c04a9789",
   "metadata": {},
   "source": [
    "## What does a data analyst on a marketing team do?\n",
    ". Analyzing marketing campaign performance <br>\n",
    ". Attributing credit to marketing channel <br>\n",
    ". A/B testing <br>"
   ]
  },
  {
   "cell_type": "markdown",
   "id": "7506beac",
   "metadata": {},
   "source": [
    "#### do some EDA"
   ]
  },
  {
   "cell_type": "code",
   "execution_count": 55,
   "id": "ba02e4f6",
   "metadata": {},
   "outputs": [],
   "source": [
    "# marketing.describe()"
   ]
  },
  {
   "cell_type": "code",
   "execution_count": 24,
   "id": "5833ee3c",
   "metadata": {},
   "outputs": [
    {
     "name": "stdout",
     "output_type": "stream",
     "text": [
      "<class 'pandas.core.frame.DataFrame'>\n",
      "RangeIndex: 10037 entries, 0 to 10036\n",
      "Data columns (total 12 columns):\n",
      " #   Column               Non-Null Count  Dtype         \n",
      "---  ------               --------------  -----         \n",
      " 0   user_id              10037 non-null  object        \n",
      " 1   date_served          10021 non-null  datetime64[ns]\n",
      " 2   marketing_channel    10022 non-null  object        \n",
      " 3   variant              10037 non-null  object        \n",
      " 4   converted            10037 non-null  bool          \n",
      " 5   language_displayed   10037 non-null  object        \n",
      " 6   language_preferred   10037 non-null  object        \n",
      " 7   age_group            10037 non-null  object        \n",
      " 8   date_subscribed      1856 non-null   datetime64[ns]\n",
      " 9   date_canceled        577 non-null    datetime64[ns]\n",
      " 10  subscribing_channel  1856 non-null   object        \n",
      " 11  is_retained          10037 non-null  bool          \n",
      "dtypes: bool(2), datetime64[ns](3), object(7)\n",
      "memory usage: 803.9+ KB\n"
     ]
    }
   ],
   "source": [
    "marketing.info()"
   ]
  },
  {
   "cell_type": "markdown",
   "id": "81d00d65",
   "metadata": {},
   "source": [
    "- change dtypes of columns"
   ]
  },
  {
   "cell_type": "code",
   "execution_count": 23,
   "id": "db6b6b15",
   "metadata": {},
   "outputs": [],
   "source": [
    "marketing['converted'] = marketing['converted'].astype('bool')\n",
    "marketing['is_retained'] = marketing['is_retained'].astype('bool')"
   ]
  },
  {
   "cell_type": "code",
   "execution_count": 37,
   "id": "79f7d393",
   "metadata": {
    "scrolled": true
   },
   "outputs": [],
   "source": [
    "# print(marketing['marketing_channel'].value_counts())\n",
    "\n",
    "channel_code_dict = {\n",
    "    \"House Ads\": 0,\n",
    "    \"Instagram\": 1,\n",
    "    \"Facebook\": 2,\n",
    "    \"Push\": 3,\n",
    "    \"Email\": 4,\n",
    "}\n",
    "\n",
    "marketing['channel_code'] = marketing['subscribing_channel'].map(channel_code_dict)"
   ]
  },
  {
   "cell_type": "code",
   "execution_count": 38,
   "id": "9ca6d215",
   "metadata": {},
   "outputs": [],
   "source": [
    "marketing['is_correct_lang'] = np.where(\n",
    "    marketing['language_displayed'] == marketing['language_preferred'],\n",
    "    'Yes',\n",
    "    'No'\n",
    ")"
   ]
  },
  {
   "cell_type": "code",
   "execution_count": 45,
   "id": "f1026cec",
   "metadata": {},
   "outputs": [],
   "source": [
    "marketing['DoW'] = marketing['date_subscribed'].dt.dayofweek\n",
    "marketing['Year'] = marketing['date_subscribed'].dt.year\n",
    "marketing['Day'] = marketing['date_subscribed'].dt.day\n",
    "marketing['month'] = marketing['date_subscribed'].dt.month"
   ]
  },
  {
   "cell_type": "markdown",
   "id": "0ac58bf7",
   "metadata": {},
   "source": [
    "### How many users see our marketing assets?"
   ]
  },
  {
   "cell_type": "code",
   "execution_count": 47,
   "id": "5245aefb",
   "metadata": {},
   "outputs": [],
   "source": [
    "daily_user = marketing.groupby(['date_served'])['user_id'].nunique()"
   ]
  },
  {
   "cell_type": "code",
   "execution_count": 52,
   "id": "3c43998a",
   "metadata": {},
   "outputs": [
    {
     "data": {
      "text/plain": [
       "date_served\n",
       "2018-01-01    362\n",
       "2018-01-02    374\n",
       "2018-01-03    348\n",
       "2018-01-04    323\n",
       "2018-01-05    319\n",
       "2018-01-06    308\n",
       "2018-01-07    275\n",
       "2018-01-08    312\n",
       "2018-01-09    312\n",
       "2018-01-10    337\n",
       "2018-01-11    310\n",
       "2018-01-12    301\n",
       "2018-01-13    306\n",
       "2018-01-14    305\n",
       "2018-01-15    767\n",
       "2018-01-16    388\n",
       "2018-01-17    369\n",
       "2018-01-18    318\n",
       "2018-01-19    305\n",
       "2018-01-20    311\n",
       "2018-01-21    229\n",
       "2018-01-22    178\n",
       "2018-01-23    172\n",
       "2018-01-24    190\n",
       "2018-01-25    184\n",
       "2018-01-26    222\n",
       "2018-01-27    320\n",
       "2018-01-28    320\n",
       "2018-01-29    319\n",
       "2018-01-30    317\n",
       "2018-01-31    340\n",
       "Name: user_id, dtype: int64"
      ]
     },
     "execution_count": 52,
     "metadata": {},
     "output_type": "execute_result"
    }
   ],
   "source": [
    "daily_user"
   ]
  },
  {
   "cell_type": "code",
   "execution_count": 54,
   "id": "808daa1d",
   "metadata": {},
   "outputs": [
    {
     "data": {
      "image/png": "[encoded data removed]",
      "text/plain": [
       "<Figure size 432x288 with 1 Axes>"
      ]
     },
     "metadata": {
      "needs_background": "light"
     },
     "output_type": "display_data"
    }
   ],
   "source": [
    "daily_user.plot()\n",
    "\n",
    "plt.title(\"Daily users who see marketing assets\")\n",
    "plt.xlabel(\"Date\")\n",
    "plt.ylabel(\"Number of users\")\n",
    "plt.xticks(rotation=45)\n",
    "\n",
    "plt.show()"
   ]
  },
  {
   "cell_type": "markdown",
   "id": "f66afb84",
   "metadata": {},
   "source": [
    "- Much like in daily users who view marketing assets, there's a large peak around the time when an email blast goes out."
   ]
  },
  {
   "cell_type": "code",
   "execution_count": 62,
   "id": "e859b438",
   "metadata": {},
   "outputs": [],
   "source": [
    "daily_active_users = marketing.groupby(['Day'])['user_id'].nunique()"
   ]
  },
  {
   "cell_type": "code",
   "execution_count": 63,
   "id": "8941c127",
   "metadata": {},
   "outputs": [
    {
     "data": {
      "image/png": "[encoded data removed]",
      "text/plain": [
       "<Figure size 432x288 with 1 Axes>"
      ]
     },
     "metadata": {
      "needs_background": "light"
     },
     "output_type": "display_data"
    }
   ],
   "source": [
    "daily_active_users.plot()\n",
    "\n",
    "plt.title(\"Daily Active Users\")\n",
    "plt.xlabel(\"Date\")\n",
    "plt.ylabel(\"Number of users\")\n",
    "plt.xticks(rotation=45)\n",
    "\n",
    "plt.show()"
   ]
  },
  {
   "cell_type": "code",
   "execution_count": null,
   "id": "c1602e9c",
   "metadata": {},
   "outputs": [],
   "source": []
  }
 ],
 "metadata": {
  "kernelspec": {
   "display_name": "Python 3 (ipykernel)",
   "language": "python",
   "name": "python3"
  },
  "language_info": {
   "codemirror_mode": {
    "name": "ipython",
    "version": 3
   },
   "file_extension": ".py",
   "mimetype": "text/x-python",
   "name": "python",
   "nbconvert_exporter": "python",
   "pygments_lexer": "ipython3",
   "version": "3.8.12"
  }
 },
 "nbformat": 4,
 "nbformat_minor": 5
}
